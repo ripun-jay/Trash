{
 "cells": [
  {
   "cell_type": "code",
   "execution_count": 1,
   "id": "b38800b4",
   "metadata": {},
   "outputs": [],
   "source": [
    "import pandas as pd\n",
    "import numpy as np"
   ]
  },
  {
   "cell_type": "code",
   "execution_count": 3,
   "id": "48222a86",
   "metadata": {},
   "outputs": [
    {
     "name": "stdout",
     "output_type": "stream",
     "text": [
      "[[ 0  1  2]\n",
      " [ 3  4  5]\n",
      " [ 6  7  8]\n",
      " [ 9 10 11]\n",
      " [12 13 14]\n",
      " [15 16 17]]\n"
     ]
    }
   ],
   "source": [
    "series =  np.arange(18).reshape(6,3)\n",
    "print(series)\n"
   ]
  },
  {
   "cell_type": "code",
   "execution_count": 6,
   "id": "5f7d3d4d",
   "metadata": {},
   "outputs": [
    {
     "name": "stdout",
     "output_type": "stream",
     "text": [
      "    A   B   C\n",
      "0   0   1   2\n",
      "1   3   4   5\n",
      "2   6   7   8\n",
      "3   9  10  11\n",
      "4  12  13  14\n",
      "5  15  16  17\n"
     ]
    }
   ],
   "source": [
    "df = pd.DataFrame(series, columns = ['A', 'B', 'C'])\n",
    "print(df)"
   ]
  },
  {
   "cell_type": "code",
   "execution_count": 7,
   "id": "435fc0a3",
   "metadata": {},
   "outputs": [],
   "source": [
    "df.to_csv('writedInCSV.csv')"
   ]
  },
  {
   "cell_type": "code",
   "execution_count": 8,
   "id": "b434221b",
   "metadata": {},
   "outputs": [],
   "source": [
    "df.to_csv('fileWithoutIndex.csv', index = False)"
   ]
  },
  {
   "cell_type": "code",
   "execution_count": null,
   "id": "9e775621",
   "metadata": {},
   "outputs": [],
   "source": [
    " "
   ]
  }
 ],
 "metadata": {
  "kernelspec": {
   "display_name": "Python 3 (ipykernel)",
   "language": "python",
   "name": "python3"
  },
  "language_info": {
   "codemirror_mode": {
    "name": "ipython",
    "version": 3
   },
   "file_extension": ".py",
   "mimetype": "text/x-python",
   "name": "python",
   "nbconvert_exporter": "python",
   "pygments_lexer": "ipython3",
   "version": "3.10.8"
  }
 },
 "nbformat": 4,
 "nbformat_minor": 5
}
