{
 "cells": [
  {
   "cell_type": "markdown",
   "id": "c227b08a",
   "metadata": {},
   "source": [
    "<h1>  Numpy function </h1>"
   ]
  },
  {
   "cell_type": "code",
   "execution_count": 1,
   "id": "79ada6f4",
   "metadata": {},
   "outputs": [],
   "source": [
    "import numpy as np"
   ]
  },
  {
   "cell_type": "code",
   "execution_count": 2,
   "id": "ccf88964",
   "metadata": {},
   "outputs": [
    {
     "name": "stdout",
     "output_type": "stream",
     "text": [
      "[[1 3 4 5]\n",
      " [2 3 6 7]]\n"
     ]
    }
   ],
   "source": [
    "arr1 = np.array([[1,3,4,5],[2,3,6,7]])\n",
    "print(arr1)"
   ]
  },
  {
   "cell_type": "markdown",
   "id": "00e02415",
   "metadata": {},
   "source": [
    "<h3> .shape and .dtype and other function source </h3>\n",
    "<h6> these shows </h6>"
   ]
  },
  {
   "cell_type": "code",
   "execution_count": 3,
   "id": "b65373b3",
   "metadata": {},
   "outputs": [
    {
     "data": {
      "text/plain": [
       "2"
      ]
     },
     "execution_count": 3,
     "metadata": {},
     "output_type": "execute_result"
    }
   ],
   "source": [
    "arr1.ndim"
   ]
  },
  {
   "cell_type": "code",
   "execution_count": 4,
   "id": "60421ae5",
   "metadata": {},
   "outputs": [
    {
     "data": {
      "text/plain": [
       "(2, 4)"
      ]
     },
     "execution_count": 4,
     "metadata": {},
     "output_type": "execute_result"
    }
   ],
   "source": [
    "arr1.shape"
   ]
  },
  {
   "cell_type": "code",
   "execution_count": 6,
   "id": "c496a797",
   "metadata": {},
   "outputs": [
    {
     "ename": "TypeError",
     "evalue": "'tuple' object is not callable",
     "output_type": "error",
     "traceback": [
      "\u001b[1;31m---------------------------------------------------------------------------\u001b[0m",
      "\u001b[1;31mTypeError\u001b[0m                                 Traceback (most recent call last)",
      "Cell \u001b[1;32mIn [6], line 1\u001b[0m\n\u001b[1;32m----> 1\u001b[0m \u001b[43marr1\u001b[49m\u001b[38;5;241;43m.\u001b[39;49m\u001b[43mshape\u001b[49m\u001b[43m(\u001b[49m\u001b[43m)\u001b[49m\n",
      "\u001b[1;31mTypeError\u001b[0m: 'tuple' object is not callable"
     ]
    }
   ],
   "source": [
    "arr1.shape()"
   ]
  },
  {
   "cell_type": "code",
   "execution_count": 7,
   "id": "2b20c17b",
   "metadata": {},
   "outputs": [
    {
     "data": {
      "text/plain": [
       "dtype('int32')"
      ]
     },
     "execution_count": 7,
     "metadata": {},
     "output_type": "execute_result"
    }
   ],
   "source": [
    "arr1.dtype"
   ]
  },
  {
   "cell_type": "markdown",
   "id": "39d96944",
   "metadata": {},
   "source": [
    "<h6>to know more about .dtype go to numpy official documentation ther are multiple dtype such as it32 int64 float64 it dermined by compalier  or defied by us depend on how big or type of number like integer fraction </h6>"
   ]
  },
  {
   "cell_type": "markdown",
   "id": "75a18f99",
   "metadata": {},
   "source": [
    "<h2>Defining array data type </h2>\n",
    "<h6> we need to define array datatpye carefully </h6>\n",
    "<h6> we can define datatype of array by extra dtpye= 'xxx' argumment after comma(,)</h6>"
   ]
  },
  {
   "cell_type": "code",
   "execution_count": 8,
   "id": "06d37811",
   "metadata": {},
   "outputs": [
    {
     "data": {
      "text/plain": [
       "dtype('int32')"
      ]
     },
     "execution_count": 8,
     "metadata": {},
     "output_type": "execute_result"
    }
   ],
   "source": [
    "arr2 = np.array([2,4,5,7])\n",
    "arr2.dtype"
   ]
  },
  {
   "cell_type": "code",
   "execution_count": 9,
   "id": "d636cd31",
   "metadata": {},
   "outputs": [
    {
     "data": {
      "text/plain": [
       "dtype('float64')"
      ]
     },
     "execution_count": 9,
     "metadata": {},
     "output_type": "execute_result"
    }
   ],
   "source": [
    "arr3 = np.array([2,4,9.5,4,6])\n",
    "arr3.dtype"
   ]
  },
  {
   "cell_type": "code",
   "execution_count": 10,
   "id": "f67d44d8",
   "metadata": {},
   "outputs": [
    {
     "name": "stdout",
     "output_type": "stream",
     "text": [
      "[2 9 5 2]\n"
     ]
    }
   ],
   "source": [
    "arr4 = np.array([2.9, 9.7, 5, 2], dtype= 'int32')\n",
    "print(arr4)"
   ]
  },
  {
   "cell_type": "code",
   "execution_count": 11,
   "id": "0989e71e",
   "metadata": {},
   "outputs": [
    {
     "name": "stdout",
     "output_type": "stream",
     "text": [
      "[5. 6. 9. 7.]\n"
     ]
    }
   ],
   "source": [
    "arr5 = np.array([5,6,9,7], dtype = 'float64')\n",
    "print(arr5)"
   ]
  },
  {
   "cell_type": "code",
   "execution_count": 12,
   "id": "76ad97ec",
   "metadata": {},
   "outputs": [
    {
     "ename": "OverflowError",
     "evalue": "Python int too large to convert to C long",
     "output_type": "error",
     "traceback": [
      "\u001b[1;31m---------------------------------------------------------------------------\u001b[0m",
      "\u001b[1;31mOverflowError\u001b[0m                             Traceback (most recent call last)",
      "Cell \u001b[1;32mIn [12], line 1\u001b[0m\n\u001b[1;32m----> 1\u001b[0m arr6 \u001b[38;5;241m=\u001b[39m \u001b[43mnp\u001b[49m\u001b[38;5;241;43m.\u001b[39;49m\u001b[43marray\u001b[49m\u001b[43m(\u001b[49m\u001b[43m[\u001b[49m\u001b[38;5;241;43m54454554545555\u001b[39;49m\u001b[43m,\u001b[49m\u001b[43m \u001b[49m\u001b[38;5;241;43m2\u001b[39;49m\u001b[43m]\u001b[49m\u001b[43m,\u001b[49m\u001b[43m \u001b[49m\u001b[43mdtype\u001b[49m\u001b[43m \u001b[49m\u001b[38;5;241;43m=\u001b[39;49m\u001b[43m \u001b[49m\u001b[38;5;124;43m'\u001b[39;49m\u001b[38;5;124;43mint32\u001b[39;49m\u001b[38;5;124;43m'\u001b[39;49m\u001b[43m)\u001b[49m\n\u001b[0;32m      2\u001b[0m \u001b[38;5;28mprint\u001b[39m(arr6)\n",
      "\u001b[1;31mOverflowError\u001b[0m: Python int too large to convert to C long"
     ]
    }
   ],
   "source": [
    "arr6 = np.array([54454554545555, 2], dtype = 'int32')\n",
    "print(arr6)"
   ]
  },
  {
   "cell_type": "code",
   "execution_count": 13,
   "id": "44e0ec67",
   "metadata": {},
   "outputs": [
    {
     "name": "stdout",
     "output_type": "stream",
     "text": [
      "[54454554545555              2]\n"
     ]
    }
   ],
   "source": [
    "arr7 = np.array([54454554545555, 2], dtype = 'int64')\n",
    "print(arr7)"
   ]
  },
  {
   "cell_type": "code",
   "execution_count": 14,
   "id": "e8b2d796",
   "metadata": {},
   "outputs": [
    {
     "name": "stdout",
     "output_type": "stream",
     "text": [
      "[5.44545545e+15 2.00000000e+00]\n"
     ]
    }
   ],
   "source": [
    "arr8 = np.array([5445455454145555, 2], dtype = 'float64')\n",
    "print(arr8)"
   ]
  },
  {
   "cell_type": "markdown",
   "id": "0bbf2a00",
   "metadata": {},
   "source": [
    "<h2> numpy Arthematic </h2>"
   ]
  },
  {
   "cell_type": "code",
   "execution_count": 15,
   "id": "fc3019b2",
   "metadata": {},
   "outputs": [],
   "source": [
    "a = np.array([[1,5,7],[8,9,6]])\n",
    "b = np.array([[9,4,5],[2,9,7]], dtype= 'float64')\n",
    "c = np.array([[2,5,6],[8,8,3.6]])\n",
    "d = np.array([[[9,4,5],[2,9,7]], [[2,5,6],[8,8,3.6]]])\n",
    "e = np.array([5,6,56])\n",
    "f = np.array([6,5,6,8,5])\n",
    "g = np.array([5])\n"
   ]
  },
  {
   "cell_type": "code",
   "execution_count": 16,
   "id": "f001b861",
   "metadata": {},
   "outputs": [
    {
     "name": "stdout",
     "output_type": "stream",
     "text": [
      "float64\n",
      "[[10.  9. 12.]\n",
      " [10. 18. 13.]]\n"
     ]
    }
   ],
   "source": [
    "ab = a+b\n",
    "print(ab.dtype)\n",
    "print(f\"{a+b}\")"
   ]
  },
  {
   "cell_type": "code",
   "execution_count": 17,
   "id": "dd4a7f8f",
   "metadata": {},
   "outputs": [
    {
     "name": "stdout",
     "output_type": "stream",
     "text": [
      "float64\n",
      "[[ 3.  10.  13. ]\n",
      " [16.  17.   9.6]]\n"
     ]
    }
   ],
   "source": [
    "ac = a + c\n",
    "print(ac.dtype)\n",
    "print(ac)"
   ]
  },
  {
   "cell_type": "code",
   "execution_count": 18,
   "id": "9b93cd33",
   "metadata": {},
   "outputs": [
    {
     "name": "stdout",
     "output_type": "stream",
     "text": [
      "[[[10.   9.  12. ]\n",
      "  [10.  18.  13. ]]\n",
      "\n",
      " [[ 3.  10.  13. ]\n",
      "  [16.  17.   9.6]]]\n"
     ]
    }
   ],
   "source": [
    "ad = a + d\n",
    "print(ad)"
   ]
  },
  {
   "cell_type": "code",
   "execution_count": 19,
   "id": "edc13f2e",
   "metadata": {},
   "outputs": [
    {
     "name": "stdout",
     "output_type": "stream",
     "text": [
      "(2, 2, 3)\n"
     ]
    }
   ],
   "source": [
    "print(d.shape)"
   ]
  },
  {
   "cell_type": "code",
   "execution_count": 20,
   "id": "99542d6b",
   "metadata": {},
   "outputs": [
    {
     "name": "stdout",
     "output_type": "stream",
     "text": [
      "[[[ 9.  20.  35. ]\n",
      "  [16.  81.  42. ]]\n",
      "\n",
      " [[ 2.  25.  42. ]\n",
      "  [64.  72.  21.6]]]\n"
     ]
    }
   ],
   "source": [
    "adm = a * d\n",
    "print(adm)"
   ]
  },
  {
   "cell_type": "code",
   "execution_count": 21,
   "id": "452e6ee8",
   "metadata": {},
   "outputs": [
    {
     "name": "stdout",
     "output_type": "stream",
     "text": [
      "[[ 6 11 63]\n",
      " [13 15 62]]\n"
     ]
    }
   ],
   "source": [
    "ae = a + e\n",
    "print(ae)"
   ]
  },
  {
   "cell_type": "code",
   "execution_count": 22,
   "id": "0de50267",
   "metadata": {},
   "outputs": [
    {
     "name": "stdout",
     "output_type": "stream",
     "text": [
      "[[ 6 11 63]\n",
      " [13 15 62]]\n"
     ]
    }
   ],
   "source": [
    "ea = e + a\n",
    "print(ea)"
   ]
  },
  {
   "cell_type": "code",
   "execution_count": 23,
   "id": "3c449ee9",
   "metadata": {},
   "outputs": [
    {
     "ename": "ValueError",
     "evalue": "operands could not be broadcast together with shapes (2,3) (5,) ",
     "output_type": "error",
     "traceback": [
      "\u001b[1;31m---------------------------------------------------------------------------\u001b[0m",
      "\u001b[1;31mValueError\u001b[0m                                Traceback (most recent call last)",
      "Cell \u001b[1;32mIn [23], line 1\u001b[0m\n\u001b[1;32m----> 1\u001b[0m af \u001b[38;5;241m=\u001b[39m \u001b[43ma\u001b[49m\u001b[43m \u001b[49m\u001b[38;5;241;43m+\u001b[39;49m\u001b[43m \u001b[49m\u001b[43mf\u001b[49m\n\u001b[0;32m      2\u001b[0m \u001b[38;5;28mprint\u001b[39m(af)\n",
      "\u001b[1;31mValueError\u001b[0m: operands could not be broadcast together with shapes (2,3) (5,) "
     ]
    }
   ],
   "source": [
    "af = a + f\n",
    "print(af)"
   ]
  },
  {
   "cell_type": "code",
   "execution_count": 24,
   "id": "b0d20e79",
   "metadata": {},
   "outputs": [
    {
     "name": "stdout",
     "output_type": "stream",
     "text": [
      "[[ 6 10 12]\n",
      " [13 14 11]]\n"
     ]
    }
   ],
   "source": [
    "ag = a + g\n",
    "print(ag)"
   ]
  },
  {
   "cell_type": "markdown",
   "id": "dbff8ca5",
   "metadata": {},
   "source": [
    "<h6> if each array projection cover each other fully in either way they can be oprated </h6>"
   ]
  },
  {
   "cell_type": "markdown",
   "id": "39886bad",
   "metadata": {},
   "source": [
    "<h2> Slicing </h2>"
   ]
  },
  {
   "cell_type": "code",
   "execution_count": 25,
   "id": "8d87da47",
   "metadata": {},
   "outputs": [],
   "source": [
    "s1 = np.array([4,7,3,2,5])"
   ]
  },
  {
   "cell_type": "code",
   "execution_count": 26,
   "id": "f810948b",
   "metadata": {},
   "outputs": [
    {
     "name": "stdout",
     "output_type": "stream",
     "text": [
      "[3 2 5]\n"
     ]
    }
   ],
   "source": [
    "i = s1[2:7]\n",
    "print(i)"
   ]
  },
  {
   "cell_type": "code",
   "execution_count": 27,
   "id": "369d728a",
   "metadata": {},
   "outputs": [
    {
     "name": "stdout",
     "output_type": "stream",
     "text": [
      "[9 2 5]\n",
      "[4 7 9 2 5]\n"
     ]
    }
   ],
   "source": [
    "i[0]= 9\n",
    "print(i)\n",
    "print(s1)"
   ]
  },
  {
   "cell_type": "markdown",
   "id": "9575978d",
   "metadata": {},
   "source": [
    "<h6> ching value of array slice will achange value of array as well because C points a location to avoid this use .copy() method</h6>"
   ]
  },
  {
   "cell_type": "markdown",
   "id": "52247144",
   "metadata": {},
   "source": [
    "<h4> .copy method </h4>"
   ]
  },
  {
   "cell_type": "code",
   "execution_count": 28,
   "id": "efe4a419",
   "metadata": {},
   "outputs": [
    {
     "name": "stdout",
     "output_type": "stream",
     "text": [
      "[7 2]\n"
     ]
    }
   ],
   "source": [
    "s2 = np.array([4,5,7,2,5])\n",
    "i1 = s2[2:4]\n",
    "print(i1)"
   ]
  },
  {
   "cell_type": "code",
   "execution_count": 29,
   "id": "e071987b",
   "metadata": {},
   "outputs": [
    {
     "name": "stdout",
     "output_type": "stream",
     "text": [
      "[7 2 5]\n"
     ]
    }
   ],
   "source": [
    "i2 = s2[2:5].copy()\n",
    "print(i2)"
   ]
  },
  {
   "cell_type": "code",
   "execution_count": 30,
   "id": "5e02421e",
   "metadata": {},
   "outputs": [
    {
     "name": "stdout",
     "output_type": "stream",
     "text": [
      "[45  2  5]\n",
      "[4 5 7 2 5]\n"
     ]
    }
   ],
   "source": [
    "i2[0] = 45\n",
    "print(i2)\n",
    "print(s2)"
   ]
  },
  {
   "cell_type": "code",
   "execution_count": 31,
   "id": "8749aeb5",
   "metadata": {},
   "outputs": [
    {
     "name": "stdout",
     "output_type": "stream",
     "text": [
      "[[2 5 6]\n",
      " [9 6 7]]\n"
     ]
    }
   ],
   "source": [
    "s3 = np.array([[2,5,6],[9,6,7]])\n",
    "print(s3)"
   ]
  },
  {
   "cell_type": "code",
   "execution_count": 32,
   "id": "3565d959",
   "metadata": {},
   "outputs": [
    {
     "name": "stdout",
     "output_type": "stream",
     "text": [
      "[9 6 7]\n"
     ]
    }
   ],
   "source": [
    "j = s3[1]\n",
    "print(j)"
   ]
  },
  {
   "cell_type": "code",
   "execution_count": 33,
   "id": "8c54d274",
   "metadata": {},
   "outputs": [
    {
     "name": "stdout",
     "output_type": "stream",
     "text": [
      "7\n"
     ]
    }
   ],
   "source": [
    "j1 = s3[1,2]\n",
    "print(j1)"
   ]
  },
  {
   "cell_type": "code",
   "execution_count": 34,
   "id": "52748196",
   "metadata": {},
   "outputs": [
    {
     "name": "stdout",
     "output_type": "stream",
     "text": [
      "[[2 5 6]\n",
      " [9 6 7]]\n"
     ]
    }
   ],
   "source": [
    "j2 = s3[0:2]\n",
    "print(j2)"
   ]
  },
  {
   "cell_type": "markdown",
   "id": "12f50d99",
   "metadata": {},
   "source": [
    "<h2> Reshape array </h2>"
   ]
  },
  {
   "cell_type": "code",
   "execution_count": 35,
   "id": "78baebad",
   "metadata": {},
   "outputs": [
    {
     "name": "stdout",
     "output_type": "stream",
     "text": [
      "[ 0  1  2  3  4  5  6  7  8  9 10 11 12 13 14]\n"
     ]
    }
   ],
   "source": [
    "arr1 = np.arange(15)\n",
    "print(arr1)"
   ]
  },
  {
   "cell_type": "code",
   "execution_count": 36,
   "id": "22b827ab",
   "metadata": {},
   "outputs": [
    {
     "data": {
      "text/plain": [
       "array([[ 0,  1,  2,  3,  4],\n",
       "       [ 5,  6,  7,  8,  9],\n",
       "       [10, 11, 12, 13, 14]])"
      ]
     },
     "execution_count": 36,
     "metadata": {},
     "output_type": "execute_result"
    }
   ],
   "source": [
    "arr1.reshape(3,5)"
   ]
  },
  {
   "cell_type": "code",
   "execution_count": 37,
   "id": "29689677",
   "metadata": {},
   "outputs": [
    {
     "ename": "ValueError",
     "evalue": "cannot reshape array of size 15 into shape (3,3)",
     "output_type": "error",
     "traceback": [
      "\u001b[1;31m---------------------------------------------------------------------------\u001b[0m",
      "\u001b[1;31mValueError\u001b[0m                                Traceback (most recent call last)",
      "Cell \u001b[1;32mIn [37], line 1\u001b[0m\n\u001b[1;32m----> 1\u001b[0m \u001b[43marr1\u001b[49m\u001b[38;5;241;43m.\u001b[39;49m\u001b[43mreshape\u001b[49m\u001b[43m(\u001b[49m\u001b[38;5;241;43m3\u001b[39;49m\u001b[43m,\u001b[49m\u001b[38;5;241;43m3\u001b[39;49m\u001b[43m)\u001b[49m\n",
      "\u001b[1;31mValueError\u001b[0m: cannot reshape array of size 15 into shape (3,3)"
     ]
    }
   ],
   "source": [
    "arr1.reshape(3,3)"
   ]
  },
  {
   "cell_type": "code",
   "execution_count": 38,
   "id": "60d01aee",
   "metadata": {},
   "outputs": [
    {
     "data": {
      "text/plain": [
       "array([[ 0,  1,  2],\n",
       "       [ 3,  4,  5],\n",
       "       [ 6,  7,  8],\n",
       "       [ 9, 10, 11],\n",
       "       [12, 13, 14]])"
      ]
     },
     "execution_count": 38,
     "metadata": {},
     "output_type": "execute_result"
    }
   ],
   "source": [
    "arr1.reshape(5,3)"
   ]
  },
  {
   "cell_type": "code",
   "execution_count": null,
   "id": "c8c13397",
   "metadata": {},
   "outputs": [],
   "source": []
  }
 ],
 "metadata": {
  "kernelspec": {
   "display_name": "Python 3 (ipykernel)",
   "language": "python",
   "name": "python3"
  },
  "language_info": {
   "codemirror_mode": {
    "name": "ipython",
    "version": 3
   },
   "file_extension": ".py",
   "mimetype": "text/x-python",
   "name": "python",
   "nbconvert_exporter": "python",
   "pygments_lexer": "ipython3",
   "version": "3.10.8"
  }
 },
 "nbformat": 4,
 "nbformat_minor": 5
}
