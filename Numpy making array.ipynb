{
 "cells": [
  {
   "cell_type": "code",
   "execution_count": 2,
   "id": "d4730b2e",
   "metadata": {},
   "outputs": [],
   "source": [
    "import numpy as np"
   ]
  },
  {
   "cell_type": "markdown",
   "id": "7c6b0724",
   "metadata": {},
   "source": [
    "<h1>Array builing</h1>"
   ]
  },
  {
   "cell_type": "markdown",
   "id": "fedf0e43",
   "metadata": {},
   "source": [
    "<h6> 1D array </h6>"
   ]
  },
  {
   "cell_type": "code",
   "execution_count": 2,
   "id": "e0c491c4",
   "metadata": {},
   "outputs": [
    {
     "name": "stdout",
     "output_type": "stream",
     "text": [
      "[ 5  5 48  4  4]\n"
     ]
    }
   ],
   "source": [
    "d1 = np.array([5,5,48,4,4,])\n",
    "print(d1)"
   ]
  },
  {
   "cell_type": "code",
   "execution_count": 3,
   "id": "b8c9e26c",
   "metadata": {},
   "outputs": [
    {
     "data": {
      "text/plain": [
       "array([ 2,  3,  4, 55,  4])"
      ]
     },
     "execution_count": 3,
     "metadata": {},
     "output_type": "execute_result"
    }
   ],
   "source": [
    "np.array([2,3,4,55,4])"
   ]
  },
  {
   "cell_type": "markdown",
   "id": "00c0341e",
   "metadata": {},
   "source": [
    "<h6> 2d array </h6>"
   ]
  },
  {
   "cell_type": "code",
   "execution_count": 3,
   "id": "5460041f",
   "metadata": {},
   "outputs": [
    {
     "name": "stdout",
     "output_type": "stream",
     "text": [
      "[[ 1.  32.  45. ]\n",
      " [ 3.   4.   5.5]]\n"
     ]
    }
   ],
   "source": [
    "d2 = np.array([[1,32,45],[3,4,5.5]])\n",
    "print(d2)"
   ]
  },
  {
   "cell_type": "code",
   "execution_count": 4,
   "id": "b45ae226",
   "metadata": {},
   "outputs": [
    {
     "name": "stdout",
     "output_type": "stream",
     "text": [
      "[[1 2 3 5]\n",
      " [5 3 6 2]\n",
      " [6 3 7 9]]\n"
     ]
    }
   ],
   "source": [
    "d2_int = np.array([[1,2,3,5],[5,3,6,2],[6,3,7,9]])\n",
    "print(d2_int)"
   ]
  },
  {
   "cell_type": "markdown",
   "id": "7faebfb0",
   "metadata": {},
   "source": [
    "<h6>3d array</h6>"
   ]
  },
  {
   "cell_type": "code",
   "execution_count": 6,
   "id": "48f551c2",
   "metadata": {},
   "outputs": [
    {
     "name": "stdout",
     "output_type": "stream",
     "text": [
      "[[[2 6 4 6]\n",
      "  [4 6 8 7]]\n",
      "\n",
      " [[2 6 7 6]\n",
      "  [8 6 3 7]]]\n"
     ]
    }
   ],
   "source": [
    "d3 = np.array([[[2,6,4,6],[4,6,8,7]],[[2,6,7,6],[8,6,3,7]]])\n",
    "print(d3)"
   ]
  },
  {
   "cell_type": "markdown",
   "id": "36533cb0",
   "metadata": {},
   "source": [
    "<h6> 4D array </h6>"
   ]
  },
  {
   "cell_type": "code",
   "execution_count": 7,
   "id": "3a3ff01f",
   "metadata": {},
   "outputs": [
    {
     "name": "stdout",
     "output_type": "stream",
     "text": [
      "[[[[2 6 4 6]\n",
      "   [4 6 8 7]]\n",
      "\n",
      "  [[2 6 7 6]\n",
      "   [8 6 3 7]]]\n",
      "\n",
      "\n",
      " [[[2 6 4 6]\n",
      "   [4 6 8 7]]\n",
      "\n",
      "  [[2 6 7 6]\n",
      "   [8 6 3 7]]]]\n"
     ]
    }
   ],
   "source": [
    "d4 = np.array([[[[2,6,4,6],[4,6,8,7]],[[2,6,7,6],[8,6,3,7]]],[[[2,6,4,6],[4,6,8,7]],[[2,6,7,6],[8,6,3,7]]]])\n",
    "print(d4)"
   ]
  },
  {
   "cell_type": "markdown",
   "id": "3c2766cd",
   "metadata": {},
   "source": [
    "<h6> Rubic Cube Array </h6> assign value by layerwise"
   ]
  },
  {
   "cell_type": "code",
   "execution_count": 8,
   "id": "d13b25d7",
   "metadata": {},
   "outputs": [
    {
     "name": "stdout",
     "output_type": "stream",
     "text": [
      "[[[1 1 1]\n",
      "  [2 2 2]\n",
      "  [3 3 3]]\n",
      "\n",
      " [[1 1 1]\n",
      "  [2 0 2]\n",
      "  [3 3 3]]\n",
      "\n",
      " [[1 1 1]\n",
      "  [2 2 2]\n",
      "  [3 3 3]]]\n"
     ]
    }
   ],
   "source": [
    "rubic1 = np.array([[[1,1,1],[2,2,2],[3,3,3]],[[1,1,1],[2,0,2],[3,3,3]],[[1,1,1],[2,2,2],[3,3,3]]])\n",
    "print(rubic1)"
   ]
  },
  {
   "cell_type": "markdown",
   "id": "f3220e86",
   "metadata": {},
   "source": [
    "<h6> making array with .arange function </h6>"
   ]
  },
  {
   "cell_type": "code",
   "execution_count": 9,
   "id": "a91e2231",
   "metadata": {},
   "outputs": [
    {
     "name": "stdout",
     "output_type": "stream",
     "text": [
      "[0 1 2 3 4]\n"
     ]
    }
   ],
   "source": [
    "a1 = np.arange(5)\n",
    "print(a1)"
   ]
  },
  {
   "cell_type": "code",
   "execution_count": 10,
   "id": "32a34ab6",
   "metadata": {},
   "outputs": [
    {
     "name": "stdout",
     "output_type": "stream",
     "text": [
      "[]\n"
     ]
    }
   ],
   "source": [
    "a2 = np.arange(5,4)\n",
    "print(a2)"
   ]
  },
  {
   "cell_type": "markdown",
   "id": "9ed008d6",
   "metadata": {},
   "source": [
    "<h3> making empty array </h3>"
   ]
  },
  {
   "cell_type": "markdown",
   "id": "6001340c",
   "metadata": {},
   "source": [
    "<h6>1D empty array</h6>"
   ]
  },
  {
   "cell_type": "markdown",
   "id": "18073ed7",
   "metadata": {},
   "source": [
    "<h6>using np.zeros ,  np.ones and np.empty </h6>"
   ]
  },
  {
   "cell_type": "code",
   "execution_count": 11,
   "id": "4d410f0f",
   "metadata": {},
   "outputs": [
    {
     "name": "stdout",
     "output_type": "stream",
     "text": [
      "[0. 0. 0. 0. 0. 0. 0. 0. 0.]\n"
     ]
    }
   ],
   "source": [
    "e1 = np.zeros(9)\n",
    "print(e1)"
   ]
  },
  {
   "cell_type": "code",
   "execution_count": 12,
   "id": "41222ef3",
   "metadata": {},
   "outputs": [
    {
     "data": {
      "text/plain": [
       "dtype('float64')"
      ]
     },
     "execution_count": 12,
     "metadata": {},
     "output_type": "execute_result"
    }
   ],
   "source": [
    "e1.dtype"
   ]
  },
  {
   "cell_type": "code",
   "execution_count": 13,
   "id": "daf11519",
   "metadata": {},
   "outputs": [
    {
     "name": "stdout",
     "output_type": "stream",
     "text": [
      "float64\n"
     ]
    }
   ],
   "source": [
    "print(e1.dtype)"
   ]
  },
  {
   "cell_type": "markdown",
   "id": "1669b478",
   "metadata": {},
   "source": [
    "<h6>2d empty array</h6>"
   ]
  },
  {
   "cell_type": "code",
   "execution_count": 14,
   "id": "cdebf584",
   "metadata": {},
   "outputs": [
    {
     "name": "stdout",
     "output_type": "stream",
     "text": [
      "[[0. 0. 0. 0.]\n",
      " [0. 0. 0. 0.]\n",
      " [0. 0. 0. 0.]\n",
      " [0. 0. 0. 0.]\n",
      " [0. 0. 0. 0.]]\n"
     ]
    }
   ],
   "source": [
    "e2 = np.zeros((5,4))\n",
    "print(e2)"
   ]
  },
  {
   "cell_type": "markdown",
   "id": "32cd4b28",
   "metadata": {},
   "source": [
    "<h6> 3d empty array </h6>"
   ]
  },
  {
   "cell_type": "code",
   "execution_count": 15,
   "id": "45b36caf",
   "metadata": {},
   "outputs": [
    {
     "name": "stdout",
     "output_type": "stream",
     "text": [
      "[[[0. 0. 0.]\n",
      "  [0. 0. 0.]\n",
      "  [0. 0. 0.]\n",
      "  [0. 0. 0.]]\n",
      "\n",
      " [[0. 0. 0.]\n",
      "  [0. 0. 0.]\n",
      "  [0. 0. 0.]\n",
      "  [0. 0. 0.]]\n",
      "\n",
      " [[0. 0. 0.]\n",
      "  [0. 0. 0.]\n",
      "  [0. 0. 0.]\n",
      "  [0. 0. 0.]]\n",
      "\n",
      " [[0. 0. 0.]\n",
      "  [0. 0. 0.]\n",
      "  [0. 0. 0.]\n",
      "  [0. 0. 0.]]\n",
      "\n",
      " [[0. 0. 0.]\n",
      "  [0. 0. 0.]\n",
      "  [0. 0. 0.]\n",
      "  [0. 0. 0.]]]\n"
     ]
    }
   ],
   "source": [
    "e3 = np.zeros((5,4,3))\n",
    "print(e3)"
   ]
  },
  {
   "cell_type": "code",
   "execution_count": 16,
   "id": "f981bd31",
   "metadata": {},
   "outputs": [
    {
     "name": "stdout",
     "output_type": "stream",
     "text": [
      "[[[0. 0. 0. 0. 0. 0. 0.]\n",
      "  [0. 0. 0. 0. 0. 0. 0.]\n",
      "  [0. 0. 0. 0. 0. 0. 0.]\n",
      "  [0. 0. 0. 0. 0. 0. 0.]\n",
      "  [0. 0. 0. 0. 0. 0. 0.]]\n",
      "\n",
      " [[0. 0. 0. 0. 0. 0. 0.]\n",
      "  [0. 0. 0. 0. 0. 0. 0.]\n",
      "  [0. 0. 0. 0. 0. 0. 0.]\n",
      "  [0. 0. 0. 0. 0. 0. 0.]\n",
      "  [0. 0. 0. 0. 0. 0. 0.]]\n",
      "\n",
      " [[0. 0. 0. 0. 0. 0. 0.]\n",
      "  [0. 0. 0. 0. 0. 0. 0.]\n",
      "  [0. 0. 0. 0. 0. 0. 0.]\n",
      "  [0. 0. 0. 0. 0. 0. 0.]\n",
      "  [0. 0. 0. 0. 0. 0. 0.]]]\n"
     ]
    }
   ],
   "source": [
    "r5c7l3 = np.zeros((3,5,7))\n",
    "print(r5c7l3)"
   ]
  },
  {
   "cell_type": "markdown",
   "id": "b3fbfadb",
   "metadata": {},
   "source": [
    "<h6> using np.ones and np.empty </h6>"
   ]
  },
  {
   "cell_type": "code",
   "execution_count": 17,
   "id": "c596794c",
   "metadata": {},
   "outputs": [
    {
     "name": "stdout",
     "output_type": "stream",
     "text": [
      "[[1. 1. 1. 1.]\n",
      " [1. 1. 1. 1.]\n",
      " [1. 1. 1. 1.]\n",
      " [1. 1. 1. 1.]\n",
      " [1. 1. 1. 1.]]\n"
     ]
    }
   ],
   "source": [
    "ones_array = np.ones((5,4))\n",
    "print(ones_array)"
   ]
  },
  {
   "cell_type": "code",
   "execution_count": 18,
   "id": "18c1de01",
   "metadata": {},
   "outputs": [
    {
     "name": "stdout",
     "output_type": "stream",
     "text": [
      "[[6.23042070e-307 4.67296746e-307]\n",
      " [1.69121096e-306 1.42418987e-306]\n",
      " [1.89146896e-307 7.56571288e-307]\n",
      " [3.11525958e-307 1.24610723e-306]\n",
      " [1.29061142e-306 5.53353523e-322]]\n"
     ]
    }
   ],
   "source": [
    "empty_array = np.empty((5,2))\n",
    "print(empty_array)"
   ]
  },
  {
   "cell_type": "code",
   "execution_count": 19,
   "id": "c566f66d",
   "metadata": {},
   "outputs": [
    {
     "name": "stdout",
     "output_type": "stream",
     "text": [
      "[[1.16157062e-311]\n",
      " [1.16156964e-311]\n",
      " [1.16156964e-311]\n",
      " [1.16156964e-311]]\n"
     ]
    }
   ],
   "source": [
    "empty_array2 = np.empty((4,1))\n",
    "print(empty_array2)"
   ]
  },
  {
   "cell_type": "code",
   "execution_count": 20,
   "id": "fe48c8cd",
   "metadata": {},
   "outputs": [
    {
     "name": "stdout",
     "output_type": "stream",
     "text": [
      "[[[ 1. ]\n",
      "  [32. ]]\n",
      "\n",
      " [[45. ]\n",
      "  [ 3. ]]\n",
      "\n",
      " [[ 4. ]\n",
      "  [ 5.5]]]\n"
     ]
    }
   ],
   "source": [
    "empty_array3 = np.empty((3,2,1))\n",
    "print(empty_array3)"
   ]
  },
  {
   "cell_type": "markdown",
   "id": "c8df07fb",
   "metadata": {},
   "source": [
    "<h6> np.zeros and np.empty are not same in np.zeros value of each element must be zero but in np.empty it could be garbadge value </h6>"
   ]
  },
  {
   "cell_type": "markdown",
   "id": "3a34f1d9",
   "metadata": {},
   "source": [
    "<h2> Speed Test Numpy vs Python</h2>\n",
    "<h6> numpy is almost 100 to 1000 times faster then python because it is written in C language and C communicate with mamory directtly wheather python is interpreted language </h6>"
   ]
  },
  {
   "cell_type": "code",
   "execution_count": 21,
   "id": "f17d713d",
   "metadata": {},
   "outputs": [
    {
     "name": "stdout",
     "output_type": "stream",
     "text": [
      "[0, 1, 2, 3, 4]\n"
     ]
    }
   ],
   "source": [
    "x = list(range(5))\n",
    "print(x)"
   ]
  },
  {
   "cell_type": "code",
   "execution_count": 22,
   "id": "fc6497e2",
   "metadata": {},
   "outputs": [],
   "source": [
    "list = list(range(100000))\n",
    "array = np.arange(100000)"
   ]
  },
  {
   "cell_type": "code",
   "execution_count": 23,
   "id": "3b65cf56",
   "metadata": {},
   "outputs": [
    {
     "name": "stdout",
     "output_type": "stream",
     "text": [
      "3.79 ms ± 200 µs per loop (mean ± std. dev. of 7 runs, 100 loops each)\n"
     ]
    }
   ],
   "source": [
    "%timeit list1 = [i*3 for i in list]"
   ]
  },
  {
   "cell_type": "code",
   "execution_count": 25,
   "id": "9a08d129",
   "metadata": {},
   "outputs": [
    {
     "name": "stdout",
     "output_type": "stream",
     "text": [
      "52.4 µs ± 59.6 ns per loop (mean ± std. dev. of 7 runs, 10,000 loops each)\n"
     ]
    }
   ],
   "source": [
    "%timeit array1 = array*3"
   ]
  },
  {
   "cell_type": "code",
   "execution_count": 26,
   "id": "12430ed6",
   "metadata": {},
   "outputs": [
    {
     "data": {
      "text/plain": [
       "56.60377358490566"
      ]
     },
     "execution_count": 26,
     "metadata": {},
     "output_type": "execute_result"
    }
   ],
   "source": [
    "(3*10**-3)/(53*10**-6)"
   ]
  },
  {
   "cell_type": "code",
   "execution_count": null,
   "id": "cd29d26a",
   "metadata": {},
   "outputs": [],
   "source": []
  }
 ],
 "metadata": {
  "kernelspec": {
   "display_name": "Python 3 (ipykernel)",
   "language": "python",
   "name": "python3"
  },
  "language_info": {
   "codemirror_mode": {
    "name": "ipython",
    "version": 3
   },
   "file_extension": ".py",
   "mimetype": "text/x-python",
   "name": "python",
   "nbconvert_exporter": "python",
   "pygments_lexer": "ipython3",
   "version": "3.10.8"
  }
 },
 "nbformat": 4,
 "nbformat_minor": 5
}
