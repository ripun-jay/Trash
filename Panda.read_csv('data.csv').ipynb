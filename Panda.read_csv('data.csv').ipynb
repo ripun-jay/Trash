{
 "cells": [
  {
   "cell_type": "code",
   "execution_count": 1,
   "id": "62058bb1",
   "metadata": {},
   "outputs": [],
   "source": [
    "import pandas as pd\n"
   ]
  },
  {
   "cell_type": "code",
   "execution_count": 2,
   "id": "f570eba5",
   "metadata": {},
   "outputs": [],
   "source": [
    "df = pd.read_csv('nseData.csv')"
   ]
  },
  {
   "cell_type": "code",
   "execution_count": 3,
   "id": "be4b7445",
   "metadata": {},
   "outputs": [
    {
     "data": {
      "text/html": [
       "<div>\n",
       "<style scoped>\n",
       "    .dataframe tbody tr th:only-of-type {\n",
       "        vertical-align: middle;\n",
       "    }\n",
       "\n",
       "    .dataframe tbody tr th {\n",
       "        vertical-align: top;\n",
       "    }\n",
       "\n",
       "    .dataframe thead th {\n",
       "        text-align: right;\n",
       "    }\n",
       "</style>\n",
       "<table border=\"1\" class=\"dataframe\">\n",
       "  <thead>\n",
       "    <tr style=\"text-align: right;\">\n",
       "      <th></th>\n",
       "      <th>SYMBOL</th>\n",
       "      <th>SERIES</th>\n",
       "      <th>DATE1</th>\n",
       "      <th>PREV_CLOSE</th>\n",
       "      <th>OPEN_PRICE</th>\n",
       "      <th>HIGH_PRICE</th>\n",
       "      <th>LOW_PRICE</th>\n",
       "      <th>LAST_PRICE</th>\n",
       "      <th>CLOSE_PRICE</th>\n",
       "      <th>AVG_PRICE</th>\n",
       "      <th>TTL_TRD_QNTY</th>\n",
       "      <th>TURNOVER_LACS</th>\n",
       "      <th>NO_OF_TRADES</th>\n",
       "      <th>DELIV_QTY</th>\n",
       "      <th>DELIV_PER</th>\n",
       "    </tr>\n",
       "  </thead>\n",
       "  <tbody>\n",
       "    <tr>\n",
       "      <th>0</th>\n",
       "      <td>1018GS2026</td>\n",
       "      <td>GS</td>\n",
       "      <td>14-Nov-2022</td>\n",
       "      <td>111.50</td>\n",
       "      <td>105.98</td>\n",
       "      <td>105.98</td>\n",
       "      <td>105.98</td>\n",
       "      <td>105.98</td>\n",
       "      <td>105.98</td>\n",
       "      <td>105.98</td>\n",
       "      <td>1</td>\n",
       "      <td>0.00</td>\n",
       "      <td>1</td>\n",
       "      <td>1</td>\n",
       "      <td>100.00</td>\n",
       "    </tr>\n",
       "    <tr>\n",
       "      <th>1</th>\n",
       "      <td>20MICRONS</td>\n",
       "      <td>EQ</td>\n",
       "      <td>14-Nov-2022</td>\n",
       "      <td>95.40</td>\n",
       "      <td>95.90</td>\n",
       "      <td>95.90</td>\n",
       "      <td>92.40</td>\n",
       "      <td>93.00</td>\n",
       "      <td>92.70</td>\n",
       "      <td>93.24</td>\n",
       "      <td>166512</td>\n",
       "      <td>155.25</td>\n",
       "      <td>3296</td>\n",
       "      <td>116930</td>\n",
       "      <td>70.22</td>\n",
       "    </tr>\n",
       "    <tr>\n",
       "      <th>2</th>\n",
       "      <td>21STCENMGM</td>\n",
       "      <td>EQ</td>\n",
       "      <td>14-Nov-2022</td>\n",
       "      <td>23.20</td>\n",
       "      <td>22.75</td>\n",
       "      <td>23.30</td>\n",
       "      <td>22.75</td>\n",
       "      <td>22.75</td>\n",
       "      <td>22.75</td>\n",
       "      <td>22.88</td>\n",
       "      <td>3820</td>\n",
       "      <td>0.87</td>\n",
       "      <td>60</td>\n",
       "      <td>2443</td>\n",
       "      <td>63.95</td>\n",
       "    </tr>\n",
       "    <tr>\n",
       "      <th>3</th>\n",
       "      <td>3IINFOLTD</td>\n",
       "      <td>EQ</td>\n",
       "      <td>14-Nov-2022</td>\n",
       "      <td>43.60</td>\n",
       "      <td>43.60</td>\n",
       "      <td>43.65</td>\n",
       "      <td>42.50</td>\n",
       "      <td>42.85</td>\n",
       "      <td>42.75</td>\n",
       "      <td>42.97</td>\n",
       "      <td>435962</td>\n",
       "      <td>187.35</td>\n",
       "      <td>2764</td>\n",
       "      <td>248576</td>\n",
       "      <td>57.02</td>\n",
       "    </tr>\n",
       "    <tr>\n",
       "      <th>4</th>\n",
       "      <td>3MINDIA</td>\n",
       "      <td>EQ</td>\n",
       "      <td>14-Nov-2022</td>\n",
       "      <td>23680.85</td>\n",
       "      <td>23799.00</td>\n",
       "      <td>24648.00</td>\n",
       "      <td>23630.20</td>\n",
       "      <td>24462.20</td>\n",
       "      <td>24483.70</td>\n",
       "      <td>24292.98</td>\n",
       "      <td>7862</td>\n",
       "      <td>1909.91</td>\n",
       "      <td>4095</td>\n",
       "      <td>3130</td>\n",
       "      <td>39.81</td>\n",
       "    </tr>\n",
       "    <tr>\n",
       "      <th>...</th>\n",
       "      <td>...</td>\n",
       "      <td>...</td>\n",
       "      <td>...</td>\n",
       "      <td>...</td>\n",
       "      <td>...</td>\n",
       "      <td>...</td>\n",
       "      <td>...</td>\n",
       "      <td>...</td>\n",
       "      <td>...</td>\n",
       "      <td>...</td>\n",
       "      <td>...</td>\n",
       "      <td>...</td>\n",
       "      <td>...</td>\n",
       "      <td>...</td>\n",
       "      <td>...</td>\n",
       "    </tr>\n",
       "    <tr>\n",
       "      <th>2323</th>\n",
       "      <td>ZOTA</td>\n",
       "      <td>EQ</td>\n",
       "      <td>14-Nov-2022</td>\n",
       "      <td>267.40</td>\n",
       "      <td>263.20</td>\n",
       "      <td>273.00</td>\n",
       "      <td>260.00</td>\n",
       "      <td>265.00</td>\n",
       "      <td>265.20</td>\n",
       "      <td>264.44</td>\n",
       "      <td>22564</td>\n",
       "      <td>59.67</td>\n",
       "      <td>1340</td>\n",
       "      <td>8226</td>\n",
       "      <td>36.46</td>\n",
       "    </tr>\n",
       "    <tr>\n",
       "      <th>2324</th>\n",
       "      <td>ZUARI</td>\n",
       "      <td>EQ</td>\n",
       "      <td>14-Nov-2022</td>\n",
       "      <td>159.15</td>\n",
       "      <td>158.05</td>\n",
       "      <td>160.50</td>\n",
       "      <td>156.40</td>\n",
       "      <td>156.45</td>\n",
       "      <td>157.05</td>\n",
       "      <td>157.98</td>\n",
       "      <td>46156</td>\n",
       "      <td>72.92</td>\n",
       "      <td>1474</td>\n",
       "      <td>22347</td>\n",
       "      <td>48.42</td>\n",
       "    </tr>\n",
       "    <tr>\n",
       "      <th>2325</th>\n",
       "      <td>ZUARIIND</td>\n",
       "      <td>EQ</td>\n",
       "      <td>14-Nov-2022</td>\n",
       "      <td>148.95</td>\n",
       "      <td>151.45</td>\n",
       "      <td>151.45</td>\n",
       "      <td>145.00</td>\n",
       "      <td>145.30</td>\n",
       "      <td>145.45</td>\n",
       "      <td>147.20</td>\n",
       "      <td>33107</td>\n",
       "      <td>48.73</td>\n",
       "      <td>883</td>\n",
       "      <td>20947</td>\n",
       "      <td>63.27</td>\n",
       "    </tr>\n",
       "    <tr>\n",
       "      <th>2326</th>\n",
       "      <td>ZYDUSLIFE</td>\n",
       "      <td>EQ</td>\n",
       "      <td>14-Nov-2022</td>\n",
       "      <td>429.45</td>\n",
       "      <td>423.85</td>\n",
       "      <td>425.60</td>\n",
       "      <td>411.80</td>\n",
       "      <td>423.50</td>\n",
       "      <td>423.80</td>\n",
       "      <td>420.47</td>\n",
       "      <td>1245780</td>\n",
       "      <td>5238.14</td>\n",
       "      <td>29150</td>\n",
       "      <td>284402</td>\n",
       "      <td>22.83</td>\n",
       "    </tr>\n",
       "    <tr>\n",
       "      <th>2327</th>\n",
       "      <td>ZYDUSWELL</td>\n",
       "      <td>EQ</td>\n",
       "      <td>14-Nov-2022</td>\n",
       "      <td>1616.95</td>\n",
       "      <td>1616.95</td>\n",
       "      <td>1620.85</td>\n",
       "      <td>1580.00</td>\n",
       "      <td>1585.00</td>\n",
       "      <td>1583.95</td>\n",
       "      <td>1592.99</td>\n",
       "      <td>26476</td>\n",
       "      <td>421.76</td>\n",
       "      <td>4235</td>\n",
       "      <td>16898</td>\n",
       "      <td>63.82</td>\n",
       "    </tr>\n",
       "  </tbody>\n",
       "</table>\n",
       "<p>2328 rows × 15 columns</p>\n",
       "</div>"
      ],
      "text/plain": [
       "          SYMBOL  SERIES         DATE1   PREV_CLOSE   OPEN_PRICE   HIGH_PRICE  \\\n",
       "0     1018GS2026      GS   14-Nov-2022       111.50       105.98       105.98   \n",
       "1      20MICRONS      EQ   14-Nov-2022        95.40        95.90        95.90   \n",
       "2     21STCENMGM      EQ   14-Nov-2022        23.20        22.75        23.30   \n",
       "3      3IINFOLTD      EQ   14-Nov-2022        43.60        43.60        43.65   \n",
       "4        3MINDIA      EQ   14-Nov-2022     23680.85     23799.00     24648.00   \n",
       "...          ...     ...           ...          ...          ...          ...   \n",
       "2323        ZOTA      EQ   14-Nov-2022       267.40       263.20       273.00   \n",
       "2324       ZUARI      EQ   14-Nov-2022       159.15       158.05       160.50   \n",
       "2325    ZUARIIND      EQ   14-Nov-2022       148.95       151.45       151.45   \n",
       "2326   ZYDUSLIFE      EQ   14-Nov-2022       429.45       423.85       425.60   \n",
       "2327   ZYDUSWELL      EQ   14-Nov-2022      1616.95      1616.95      1620.85   \n",
       "\n",
       "       LOW_PRICE   LAST_PRICE   CLOSE_PRICE   AVG_PRICE   TTL_TRD_QNTY  \\\n",
       "0         105.98       105.98        105.98      105.98              1   \n",
       "1          92.40        93.00         92.70       93.24         166512   \n",
       "2          22.75        22.75         22.75       22.88           3820   \n",
       "3          42.50        42.85         42.75       42.97         435962   \n",
       "4       23630.20     24462.20      24483.70    24292.98           7862   \n",
       "...          ...          ...           ...         ...            ...   \n",
       "2323      260.00       265.00        265.20      264.44          22564   \n",
       "2324      156.40       156.45        157.05      157.98          46156   \n",
       "2325      145.00       145.30        145.45      147.20          33107   \n",
       "2326      411.80       423.50        423.80      420.47        1245780   \n",
       "2327     1580.00      1585.00       1583.95     1592.99          26476   \n",
       "\n",
       "       TURNOVER_LACS   NO_OF_TRADES  DELIV_QTY  DELIV_PER  \n",
       "0               0.00              1          1     100.00  \n",
       "1             155.25           3296     116930      70.22  \n",
       "2               0.87             60       2443      63.95  \n",
       "3             187.35           2764     248576      57.02  \n",
       "4            1909.91           4095       3130      39.81  \n",
       "...              ...            ...        ...        ...  \n",
       "2323           59.67           1340       8226      36.46  \n",
       "2324           72.92           1474      22347      48.42  \n",
       "2325           48.73            883      20947      63.27  \n",
       "2326         5238.14          29150     284402      22.83  \n",
       "2327          421.76           4235      16898      63.82  \n",
       "\n",
       "[2328 rows x 15 columns]"
      ]
     },
     "execution_count": 3,
     "metadata": {},
     "output_type": "execute_result"
    }
   ],
   "source": [
    "df\n"
   ]
  },
  {
   "cell_type": "code",
   "execution_count": 5,
   "id": "8f7ce4da",
   "metadata": {},
   "outputs": [
    {
     "data": {
      "text/html": [
       "<div>\n",
       "<style scoped>\n",
       "    .dataframe tbody tr th:only-of-type {\n",
       "        vertical-align: middle;\n",
       "    }\n",
       "\n",
       "    .dataframe tbody tr th {\n",
       "        vertical-align: top;\n",
       "    }\n",
       "\n",
       "    .dataframe thead th {\n",
       "        text-align: right;\n",
       "    }\n",
       "</style>\n",
       "<table border=\"1\" class=\"dataframe\">\n",
       "  <thead>\n",
       "    <tr style=\"text-align: right;\">\n",
       "      <th></th>\n",
       "      <th>SYMBOL</th>\n",
       "      <th>SERIES</th>\n",
       "      <th>DATE1</th>\n",
       "      <th>PREV_CLOSE</th>\n",
       "      <th>OPEN_PRICE</th>\n",
       "      <th>HIGH_PRICE</th>\n",
       "      <th>LOW_PRICE</th>\n",
       "      <th>LAST_PRICE</th>\n",
       "      <th>CLOSE_PRICE</th>\n",
       "      <th>AVG_PRICE</th>\n",
       "      <th>TTL_TRD_QNTY</th>\n",
       "      <th>TURNOVER_LACS</th>\n",
       "      <th>NO_OF_TRADES</th>\n",
       "      <th>DELIV_QTY</th>\n",
       "      <th>DELIV_PER</th>\n",
       "    </tr>\n",
       "  </thead>\n",
       "  <tbody>\n",
       "    <tr>\n",
       "      <th>0</th>\n",
       "      <td>1018GS2026</td>\n",
       "      <td>GS</td>\n",
       "      <td>14-Nov-2022</td>\n",
       "      <td>111.50</td>\n",
       "      <td>105.98</td>\n",
       "      <td>105.98</td>\n",
       "      <td>105.98</td>\n",
       "      <td>105.98</td>\n",
       "      <td>105.98</td>\n",
       "      <td>105.98</td>\n",
       "      <td>1</td>\n",
       "      <td>0.00</td>\n",
       "      <td>1</td>\n",
       "      <td>1</td>\n",
       "      <td>100.00</td>\n",
       "    </tr>\n",
       "    <tr>\n",
       "      <th>1</th>\n",
       "      <td>20MICRONS</td>\n",
       "      <td>EQ</td>\n",
       "      <td>14-Nov-2022</td>\n",
       "      <td>95.40</td>\n",
       "      <td>95.90</td>\n",
       "      <td>95.90</td>\n",
       "      <td>92.40</td>\n",
       "      <td>93.00</td>\n",
       "      <td>92.70</td>\n",
       "      <td>93.24</td>\n",
       "      <td>166512</td>\n",
       "      <td>155.25</td>\n",
       "      <td>3296</td>\n",
       "      <td>116930</td>\n",
       "      <td>70.22</td>\n",
       "    </tr>\n",
       "    <tr>\n",
       "      <th>2</th>\n",
       "      <td>21STCENMGM</td>\n",
       "      <td>EQ</td>\n",
       "      <td>14-Nov-2022</td>\n",
       "      <td>23.20</td>\n",
       "      <td>22.75</td>\n",
       "      <td>23.30</td>\n",
       "      <td>22.75</td>\n",
       "      <td>22.75</td>\n",
       "      <td>22.75</td>\n",
       "      <td>22.88</td>\n",
       "      <td>3820</td>\n",
       "      <td>0.87</td>\n",
       "      <td>60</td>\n",
       "      <td>2443</td>\n",
       "      <td>63.95</td>\n",
       "    </tr>\n",
       "    <tr>\n",
       "      <th>3</th>\n",
       "      <td>3IINFOLTD</td>\n",
       "      <td>EQ</td>\n",
       "      <td>14-Nov-2022</td>\n",
       "      <td>43.60</td>\n",
       "      <td>43.60</td>\n",
       "      <td>43.65</td>\n",
       "      <td>42.50</td>\n",
       "      <td>42.85</td>\n",
       "      <td>42.75</td>\n",
       "      <td>42.97</td>\n",
       "      <td>435962</td>\n",
       "      <td>187.35</td>\n",
       "      <td>2764</td>\n",
       "      <td>248576</td>\n",
       "      <td>57.02</td>\n",
       "    </tr>\n",
       "    <tr>\n",
       "      <th>4</th>\n",
       "      <td>3MINDIA</td>\n",
       "      <td>EQ</td>\n",
       "      <td>14-Nov-2022</td>\n",
       "      <td>23680.85</td>\n",
       "      <td>23799.00</td>\n",
       "      <td>24648.00</td>\n",
       "      <td>23630.20</td>\n",
       "      <td>24462.20</td>\n",
       "      <td>24483.70</td>\n",
       "      <td>24292.98</td>\n",
       "      <td>7862</td>\n",
       "      <td>1909.91</td>\n",
       "      <td>4095</td>\n",
       "      <td>3130</td>\n",
       "      <td>39.81</td>\n",
       "    </tr>\n",
       "  </tbody>\n",
       "</table>\n",
       "</div>"
      ],
      "text/plain": [
       "       SYMBOL  SERIES         DATE1   PREV_CLOSE   OPEN_PRICE   HIGH_PRICE  \\\n",
       "0  1018GS2026      GS   14-Nov-2022       111.50       105.98       105.98   \n",
       "1   20MICRONS      EQ   14-Nov-2022        95.40        95.90        95.90   \n",
       "2  21STCENMGM      EQ   14-Nov-2022        23.20        22.75        23.30   \n",
       "3   3IINFOLTD      EQ   14-Nov-2022        43.60        43.60        43.65   \n",
       "4     3MINDIA      EQ   14-Nov-2022     23680.85     23799.00     24648.00   \n",
       "\n",
       "    LOW_PRICE   LAST_PRICE   CLOSE_PRICE   AVG_PRICE   TTL_TRD_QNTY  \\\n",
       "0      105.98       105.98        105.98      105.98              1   \n",
       "1       92.40        93.00         92.70       93.24         166512   \n",
       "2       22.75        22.75         22.75       22.88           3820   \n",
       "3       42.50        42.85         42.75       42.97         435962   \n",
       "4    23630.20     24462.20      24483.70    24292.98           7862   \n",
       "\n",
       "    TURNOVER_LACS   NO_OF_TRADES  DELIV_QTY  DELIV_PER  \n",
       "0            0.00              1          1     100.00  \n",
       "1          155.25           3296     116930      70.22  \n",
       "2            0.87             60       2443      63.95  \n",
       "3          187.35           2764     248576      57.02  \n",
       "4         1909.91           4095       3130      39.81  "
      ]
     },
     "execution_count": 5,
     "metadata": {},
     "output_type": "execute_result"
    }
   ],
   "source": [
    "df.head()"
   ]
  },
  {
   "cell_type": "code",
   "execution_count": 6,
   "id": "14e0d23c",
   "metadata": {},
   "outputs": [
    {
     "data": {
      "text/plain": [
       "0       1018GS2026\n",
       "1        20MICRONS\n",
       "2       21STCENMGM\n",
       "3        3IINFOLTD\n",
       "4          3MINDIA\n",
       "           ...    \n",
       "2323          ZOTA\n",
       "2324         ZUARI\n",
       "2325      ZUARIIND\n",
       "2326     ZYDUSLIFE\n",
       "2327     ZYDUSWELL\n",
       "Name: SYMBOL, Length: 2328, dtype: object"
      ]
     },
     "execution_count": 6,
     "metadata": {},
     "output_type": "execute_result"
    }
   ],
   "source": [
    "df['SYMBOL']\n"
   ]
  },
  {
   "cell_type": "code",
   "execution_count": 8,
   "id": "dcbf7050",
   "metadata": {},
   "outputs": [
    {
     "data": {
      "text/plain": [
       "dtype('O')"
      ]
     },
     "execution_count": 8,
     "metadata": {},
     "output_type": "execute_result"
    }
   ],
   "source": [
    "df['SYMBOL'].dtype"
   ]
  },
  {
   "cell_type": "code",
   "execution_count": 9,
   "id": "cc836f37",
   "metadata": {},
   "outputs": [
    {
     "name": "stdout",
     "output_type": "stream",
     "text": [
      "object\n"
     ]
    }
   ],
   "source": [
    "print(df['SYMBOL'].dtype)"
   ]
  },
  {
   "cell_type": "code",
   "execution_count": 11,
   "id": "74be5de5",
   "metadata": {},
   "outputs": [
    {
     "data": {
      "text/plain": [
       "0         105.98\n",
       "1          92.70\n",
       "2          22.75\n",
       "3          42.75\n",
       "4       24483.70\n",
       "          ...   \n",
       "2323      265.20\n",
       "2324      157.05\n",
       "2325      145.45\n",
       "2326      423.80\n",
       "2327     1583.95\n",
       "Name:  CLOSE_PRICE, Length: 2328, dtype: float64"
      ]
     },
     "execution_count": 11,
     "metadata": {},
     "output_type": "execute_result"
    }
   ],
   "source": [
    "df[' CLOSE_PRICE']"
   ]
  },
  {
   "cell_type": "code",
   "execution_count": 12,
   "id": "5234a80f",
   "metadata": {},
   "outputs": [
    {
     "data": {
      "text/plain": [
       "dtype('float64')"
      ]
     },
     "execution_count": 12,
     "metadata": {},
     "output_type": "execute_result"
    }
   ],
   "source": [
    "df[' CLOSE_PRICE'].dtype\n"
   ]
  },
  {
   "cell_type": "markdown",
   "id": "4cd53e9d",
   "metadata": {},
   "source": [
    "<h6> Change dtype of Column in panda </h6>"
   ]
  },
  {
   "cell_type": "code",
   "execution_count": 13,
   "id": "9dd7b4b2",
   "metadata": {},
   "outputs": [
    {
     "data": {
      "text/plain": [
       "0         105\n",
       "1          92\n",
       "2          22\n",
       "3          42\n",
       "4       24483\n",
       "        ...  \n",
       "2323      265\n",
       "2324      157\n",
       "2325      145\n",
       "2326      423\n",
       "2327     1583\n",
       "Name:  CLOSE_PRICE, Length: 2328, dtype: int32"
      ]
     },
     "execution_count": 13,
     "metadata": {},
     "output_type": "execute_result"
    }
   ],
   "source": [
    "df[' CLOSE_PRICE'].astype('int32')\n"
   ]
  },
  {
   "cell_type": "code",
   "execution_count": 14,
   "id": "77e63c37",
   "metadata": {},
   "outputs": [
    {
     "name": "stderr",
     "output_type": "stream",
     "text": [
      "C:\\python10\\lib\\site-packages\\IPython\\lib\\pretty.py:778: FutureWarning: Index.ravel returning ndarray is deprecated; in a future version this will return a view on self.\n",
      "  output = repr(obj)\n"
     ]
    },
    {
     "data": {
      "text/plain": [
       "0         105.98\n",
       "1          92.70\n",
       "2          22.75\n",
       "3          42.75\n",
       "4       24483.70\n",
       "          ...   \n",
       "2323      265.20\n",
       "2324      157.05\n",
       "2325      145.45\n",
       "2326      423.80\n",
       "2327     1583.95\n",
       "Name:  CLOSE_PRICE, Length: 2328, dtype: category\n",
       "Categories (2113, float64): [0.35, 0.45, 0.55, 0.70, ..., 24483.70, 38873.90, 46843.95, 86179.85]"
      ]
     },
     "execution_count": 14,
     "metadata": {},
     "output_type": "execute_result"
    }
   ],
   "source": [
    "df[' CLOSE_PRICE'].astype('category')\n",
    "\n"
   ]
  },
  {
   "cell_type": "code",
   "execution_count": 18,
   "id": "21252a3b",
   "metadata": {},
   "outputs": [
    {
     "data": {
      "text/plain": [
       "0        GS\n",
       "1        EQ\n",
       "2        EQ\n",
       "3        EQ\n",
       "4        EQ\n",
       "       ... \n",
       "2323     EQ\n",
       "2324     EQ\n",
       "2325     EQ\n",
       "2326     EQ\n",
       "2327     EQ\n",
       "Name:  SERIES, Length: 2328, dtype: category\n",
       "Categories (65, object): [' BE', ' BZ', ' E1', ' EQ', ..., ' Z9', ' ZE', ' ZH', ' ZI']"
      ]
     },
     "execution_count": 18,
     "metadata": {},
     "output_type": "execute_result"
    }
   ],
   "source": [
    "df[' SERIES'].astype('category')\n"
   ]
  },
  {
   "cell_type": "code",
   "execution_count": null,
   "id": "3698ea24",
   "metadata": {},
   "outputs": [],
   "source": []
  }
 ],
 "metadata": {
  "kernelspec": {
   "display_name": "Python 3 (ipykernel)",
   "language": "python",
   "name": "python3"
  },
  "language_info": {
   "codemirror_mode": {
    "name": "ipython",
    "version": 3
   },
   "file_extension": ".py",
   "mimetype": "text/x-python",
   "name": "python",
   "nbconvert_exporter": "python",
   "pygments_lexer": "ipython3",
   "version": "3.10.8"
  }
 },
 "nbformat": 4,
 "nbformat_minor": 5
}
