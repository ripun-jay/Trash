{
 "cells": [
  {
   "cell_type": "code",
   "execution_count": 4,
   "id": "ba9e3c0f",
   "metadata": {},
   "outputs": [],
   "source": [
    "from plotly import offline\n",
    "from plotly.graph_objs import Bar, Layout\n",
    "from random import randint, choice"
   ]
  },
  {
   "cell_type": "code",
   "execution_count": 5,
   "id": "c90383cd",
   "metadata": {},
   "outputs": [
    {
     "name": "stdout",
     "output_type": "stream",
     "text": [
      "[0, 1, 2, 3, 4, 5, 6]\n",
      "[201, 411, 194, 369, 277, 353, 447]\n"
     ]
    }
   ],
   "source": [
    "x_value = list(range(7))\n",
    "print(x_value)\n",
    "x_freqs = [randint(100,500) for i in range(7)]\n",
    "print(x_freqs)"
   ]
  },
  {
   "cell_type": "code",
   "execution_count": 7,
   "id": "6a09070b",
   "metadata": {},
   "outputs": [
    {
     "data": {
      "text/plain": [
       "'d6.html'"
      ]
     },
     "execution_count": 7,
     "metadata": {},
     "output_type": "execute_result"
    }
   ],
   "source": [
    "data = [Bar(x= x_value, y= x_freqs)]\n",
    "x_axis_config= {\"title\" : \"value\",}\n",
    "y_axis_config= {\"title\": \"freq of value\"}\n",
    "my_layout = Layout(title= \"D6 result\", xaxis= x_axis_config, yaxis= y_axis_config)\n",
    "offline.plot({\"data\": data, \"layout\": my_layout}, filename= \"d6.html\")"
   ]
  },
  {
   "cell_type": "code",
   "execution_count": 9,
   "id": "30dc06f3",
   "metadata": {},
   "outputs": [
    {
     "name": "stdout",
     "output_type": "stream",
     "text": [
      "[1, 2, 3, 4, 5, 6] [164, 177, 164, 187, 158, 150]\n"
     ]
    }
   ],
   "source": [
    "class Die:\n",
    "    \n",
    "    def __init__(self, num_side= 6, time= 1000):\n",
    "        self.num_side= num_side\n",
    "        self.time= time\n",
    "        \n",
    "    def rolling_die(self):\n",
    "        x_values= list(range(1, self.num_side+1))\n",
    "        result= [randint(1,self.num_side) for i in range(self.time)]\n",
    "        x_freqs= [result.count(i) for i in range(1, self.num_side+1)]\n",
    "        return x_values, x_freqs\n",
    "    \n",
    "die = Die()\n",
    "x,y = die.rolling_die()\n",
    "print(x,y)\n",
    "        \n",
    "        "
   ]
  },
  {
   "cell_type": "code",
   "execution_count": 10,
   "id": "b1696783",
   "metadata": {},
   "outputs": [
    {
     "data": {
      "text/plain": [
       "1000"
      ]
     },
     "execution_count": 10,
     "metadata": {},
     "output_type": "execute_result"
    }
   ],
   "source": [
    "sum(y)"
   ]
  },
  {
   "cell_type": "code",
   "execution_count": 17,
   "id": "bdba1b7f",
   "metadata": {},
   "outputs": [
    {
     "data": {
      "text/plain": [
       "'D7.html'"
      ]
     },
     "execution_count": 17,
     "metadata": {},
     "output_type": "execute_result"
    }
   ],
   "source": [
    "data = [Bar(x=x,y=y)]\n",
    "my_layout = Layout(title= f\"D{die.num_side} Results\", xaxis= {\"title\": \"values\"}, yaxis= {\"title\": \"frequency of values\"})\n",
    "offline.plot({\"data\": data, \"layout\": my_layout}, filename= f\"D{die.num_side}.html\")"
   ]
  },
  {
   "cell_type": "code",
   "execution_count": 19,
   "id": "de9d5b41",
   "metadata": {},
   "outputs": [
    {
     "data": {
      "text/plain": [
       "range(0, 6)"
      ]
     },
     "execution_count": 19,
     "metadata": {},
     "output_type": "execute_result"
    }
   ],
   "source": [
    "x= range(6)\n",
    "x"
   ]
  },
  {
   "cell_type": "code",
   "execution_count": 20,
   "id": "862dcf93",
   "metadata": {},
   "outputs": [
    {
     "name": "stdout",
     "output_type": "stream",
     "text": [
      "range(0, 6)\n"
     ]
    }
   ],
   "source": [
    "print(x)"
   ]
  },
  {
   "cell_type": "code",
   "execution_count": 21,
   "id": "f6d25daf",
   "metadata": {},
   "outputs": [
    {
     "data": {
      "text/plain": [
       "15"
      ]
     },
     "execution_count": 21,
     "metadata": {},
     "output_type": "execute_result"
    }
   ],
   "source": [
    "sum(x)"
   ]
  },
  {
   "cell_type": "code",
   "execution_count": 22,
   "id": "c401b81b",
   "metadata": {},
   "outputs": [
    {
     "ename": "NameError",
     "evalue": "name 'mod' is not defined",
     "output_type": "error",
     "traceback": [
      "\u001b[1;31m---------------------------------------------------------------------------\u001b[0m",
      "\u001b[1;31mNameError\u001b[0m                                 Traceback (most recent call last)",
      "Cell \u001b[1;32mIn [22], line 1\u001b[0m\n\u001b[1;32m----> 1\u001b[0m \u001b[43mmod\u001b[49m(x)\n",
      "\u001b[1;31mNameError\u001b[0m: name 'mod' is not defined"
     ]
    }
   ],
   "source": [
    "multiple(x)"
   ]
  },
  {
   "cell_type": "code",
   "execution_count": null,
   "id": "de354e41",
   "metadata": {},
   "outputs": [],
   "source": []
  }
 ],
 "metadata": {
  "kernelspec": {
   "display_name": "Python 3 (ipykernel)",
   "language": "python",
   "name": "python3"
  },
  "language_info": {
   "codemirror_mode": {
    "name": "ipython",
    "version": 3
   },
   "file_extension": ".py",
   "mimetype": "text/x-python",
   "name": "python",
   "nbconvert_exporter": "python",
   "pygments_lexer": "ipython3",
   "version": "3.10.8"
  }
 },
 "nbformat": 4,
 "nbformat_minor": 5
}
