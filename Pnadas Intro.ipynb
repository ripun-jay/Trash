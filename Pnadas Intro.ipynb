{
 "cells": [
  {
   "cell_type": "markdown",
   "id": "581f2762",
   "metadata": {},
   "source": [
    "<h1> Pandas Introduction</h1>"
   ]
  },
  {
   "cell_type": "markdown",
   "id": "0652bcc3",
   "metadata": {},
   "source": [
    "<h6>VBA in excel is not easy as python, we can read file like .csv, .json using panda</h6>"
   ]
  },
  {
   "cell_type": "markdown",
   "id": "3f1677e8",
   "metadata": {},
   "source": [
    "<h6> panda bring data to RAM</h6>"
   ]
  },
  {
   "cell_type": "code",
   "execution_count": 2,
   "id": "d27cbbd9",
   "metadata": {},
   "outputs": [],
   "source": [
    "import pandas as pd"
   ]
  },
  {
   "cell_type": "code",
   "execution_count": 3,
   "id": "21b507fb",
   "metadata": {},
   "outputs": [
    {
     "name": "stdout",
     "output_type": "stream",
     "text": [
      "Empty DataFrame\n",
      "Columns: []\n",
      "Index: []\n"
     ]
    }
   ],
   "source": [
    "df = pd.DataFrame()\n",
    "print(df)"
   ]
  },
  {
   "cell_type": "code",
   "execution_count": 5,
   "id": "2f4d8964",
   "metadata": {},
   "outputs": [
    {
     "name": "stdout",
     "output_type": "stream",
     "text": [
      "   0  1  2  3\n",
      "0  5  7  8  6\n",
      "1  2  6  8  3\n",
      "2  2  5  5  5\n",
      "3  8  5  6  2\n"
     ]
    }
   ],
   "source": [
    "df = pd.DataFrame([[5,7,8,6],[2,6,8,3],[2,5,5,5],[8,5,6,2]])\n",
    "print(df)"
   ]
  },
  {
   "cell_type": "code",
   "execution_count": 7,
   "id": "5bbf0d5f",
   "metadata": {},
   "outputs": [
    {
     "name": "stdout",
     "output_type": "stream",
     "text": [
      "   0  1  2  3\n",
      "0  5  7  8  6\n",
      "1  2  6  8  3\n"
     ]
    }
   ],
   "source": [
    "print(df.head(2))"
   ]
  },
  {
   "cell_type": "code",
   "execution_count": 8,
   "id": "8ba397fd",
   "metadata": {},
   "outputs": [
    {
     "name": "stdout",
     "output_type": "stream",
     "text": [
      "   0  1  2  3\n",
      "2  2  5  5  5\n",
      "3  8  5  6  2\n"
     ]
    }
   ],
   "source": [
    "print(df.tail(2))"
   ]
  },
  {
   "cell_type": "markdown",
   "id": "62d10825",
   "metadata": {},
   "source": [
    "<h4> Defining Column</h4>"
   ]
  },
  {
   "cell_type": "code",
   "execution_count": 9,
   "id": "192ab33a",
   "metadata": {},
   "outputs": [
    {
     "name": "stdout",
     "output_type": "stream",
     "text": [
      "   0  1  2  3\n",
      "2  2  5  5  5\n",
      "3  8  5  6  2\n"
     ]
    }
   ],
   "source": [
    "print(df.tail(2))"
   ]
  },
  {
   "cell_type": "code",
   "execution_count": 10,
   "id": "9ef4ec51",
   "metadata": {},
   "outputs": [
    {
     "name": "stdout",
     "output_type": "stream",
     "text": [
      "(4, 4)\n"
     ]
    }
   ],
   "source": [
    "print(df.shape)"
   ]
  },
  {
   "cell_type": "code",
   "execution_count": 12,
   "id": "c72e0883",
   "metadata": {},
   "outputs": [
    {
     "ename": "TypeError",
     "evalue": "'columns' is an invalid keyword argument for print()",
     "output_type": "error",
     "traceback": [
      "\u001b[1;31m---------------------------------------------------------------------------\u001b[0m",
      "\u001b[1;31mTypeError\u001b[0m                                 Traceback (most recent call last)",
      "Cell \u001b[1;32mIn [12], line 1\u001b[0m\n\u001b[1;32m----> 1\u001b[0m \u001b[38;5;28;43mprint\u001b[39;49m\u001b[43m(\u001b[49m\u001b[43mdf\u001b[49m\u001b[43m,\u001b[49m\u001b[43m \u001b[49m\u001b[43mcolumns\u001b[49m\u001b[43m \u001b[49m\u001b[38;5;241;43m=\u001b[39;49m\u001b[43m \u001b[49m\u001b[43m[\u001b[49m\u001b[38;5;124;43m'\u001b[39;49m\u001b[38;5;124;43ma\u001b[39;49m\u001b[38;5;124;43m'\u001b[39;49m\u001b[43m,\u001b[49m\u001b[38;5;124;43m'\u001b[39;49m\u001b[38;5;124;43mb\u001b[39;49m\u001b[38;5;124;43m'\u001b[39;49m\u001b[43m,\u001b[49m\u001b[38;5;124;43m'\u001b[39;49m\u001b[38;5;124;43mc\u001b[39;49m\u001b[38;5;124;43m'\u001b[39;49m\u001b[43m,\u001b[49m\u001b[38;5;124;43m'\u001b[39;49m\u001b[38;5;124;43md\u001b[39;49m\u001b[38;5;124;43m'\u001b[39;49m\u001b[43m]\u001b[49m\u001b[43m)\u001b[49m\n",
      "\u001b[1;31mTypeError\u001b[0m: 'columns' is an invalid keyword argument for print()"
     ]
    }
   ],
   "source": [
    "print(df, columns = ['a','b','c','d'])"
   ]
  },
  {
   "cell_type": "code",
   "execution_count": 13,
   "id": "381dd225",
   "metadata": {},
   "outputs": [
    {
     "name": "stdout",
     "output_type": "stream",
     "text": [
      "   a  b  c  d\n",
      "0  5  7  8  6\n",
      "1  2  6  8  3\n",
      "2  2  5  5  5\n",
      "3  8  5  6  2\n"
     ]
    }
   ],
   "source": [
    "df = pd.DataFrame([[5,7,8,6],[2,6,8,3],[2,5,5,5],[8,5,6,2]], columns=['a','b','c','d'] )\n",
    "print(df)"
   ]
  },
  {
   "cell_type": "code",
   "execution_count": null,
   "id": "41adbad1",
   "metadata": {},
   "outputs": [],
   "source": []
  },
  {
   "cell_type": "markdown",
   "id": "100ab6ed",
   "metadata": {},
   "source": [
    "<h6> Slicing dataframe using   .iloc  </h6>"
   ]
  },
  {
   "cell_type": "code",
   "execution_count": 15,
   "id": "1acc9877",
   "metadata": {},
   "outputs": [
    {
     "name": "stdout",
     "output_type": "stream",
     "text": [
      "6\n"
     ]
    }
   ],
   "source": [
    "print(df.iloc[1,1])"
   ]
  },
  {
   "cell_type": "code",
   "execution_count": 18,
   "id": "11bdde8d",
   "metadata": {},
   "outputs": [
    {
     "name": "stdout",
     "output_type": "stream",
     "text": [
      "   b  c\n",
      "0  7  8\n",
      "1  6  8\n"
     ]
    }
   ],
   "source": [
    " print(df.iloc[0:2,1:3])"
   ]
  },
  {
   "cell_type": "code",
   "execution_count": 19,
   "id": "ae03ed77",
   "metadata": {},
   "outputs": [
    {
     "name": "stdout",
     "output_type": "stream",
     "text": [
      "   a  b  c  d\n",
      "0  5  7  8  6\n"
     ]
    }
   ],
   "source": [
    "print(df.iloc[0:1,0:4])"
   ]
  },
  {
   "cell_type": "code",
   "execution_count": 20,
   "id": "279eb3a1",
   "metadata": {},
   "outputs": [
    {
     "name": "stdout",
     "output_type": "stream",
     "text": [
      "   b  c\n",
      "1  6  8\n",
      "2  5  5\n"
     ]
    }
   ],
   "source": [
    "print(df.iloc[1:3,1:3])"
   ]
  },
  {
   "cell_type": "markdown",
   "id": "2446036d",
   "metadata": {},
   "source": [
    "<h6> from panda documenttations :- how to droop a column and many more built-in function</h6>"
   ]
  },
  {
   "cell_type": "markdown",
   "id": "f851f2e3",
   "metadata": {},
   "source": [
    "<h6> pandas in 10 mins to pandas in documentation link:- <a ref = \"https://pandas.pydata.org/pandas-docs/stable/user_guide/10min.html\">  CLICK </a></h6>"
   ]
  },
  {
   "cell_type": "code",
   "execution_count": null,
   "id": "d0af1b0e",
   "metadata": {},
   "outputs": [],
   "source": []
  }
 ],
 "metadata": {
  "kernelspec": {
   "display_name": "Python 3 (ipykernel)",
   "language": "python",
   "name": "python3"
  },
  "language_info": {
   "codemirror_mode": {
    "name": "ipython",
    "version": 3
   },
   "file_extension": ".py",
   "mimetype": "text/x-python",
   "name": "python",
   "nbconvert_exporter": "python",
   "pygments_lexer": "ipython3",
   "version": "3.10.8"
  }
 },
 "nbformat": 4,
 "nbformat_minor": 5
}
